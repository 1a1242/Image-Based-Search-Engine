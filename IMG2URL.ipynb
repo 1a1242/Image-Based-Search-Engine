{
 "cells": [
  {
   "cell_type": "code",
   "execution_count": 1,
   "id": "44db43b9",
   "metadata": {},
   "outputs": [
    {
     "name": "stdout",
     "output_type": "stream",
     "text": [
      "http://www.google.hr/search?tbs=sbi:AMhZZisTzXViq92IcRmrRsmxdw6LsOPs6KNcbcS5TUZWviiNMmUotEydxcrhUiC7C19xoFVlnSpe\n"
     ]
    },
    {
     "data": {
      "text/plain": [
       "[]"
      ]
     },
     "execution_count": 1,
     "metadata": {},
     "output_type": "execute_result"
    }
   ],
   "source": [
    "import requests\n",
    "from selenium import webdriver\n",
    "from selenium.webdriver.common.by import By\n",
    "import os\n",
    "import warnings\n",
    "from webdriver_manager.chrome import ChromeDriverManager\n",
    "from selenium.webdriver.chrome.service import Service as ChromeService\n",
    "warnings.filterwarnings(\"ignore\")\n",
    "\n",
    "filePath = os.path.join('test_images','download2.jpg')\n",
    "\n",
    "headers = {\n",
    "    \"User-Agent\":\n",
    "    \"Mozilla/5.0 (Windows NT 10.0; Win64; x64) AppleWebKit/537.36 (KHTML, like Gecko) Chrome/72.0.3538.102 Safari/537.36 Edge/18.19582\"\n",
    "}\n",
    "searchUrl = 'http://www.google.hr/searchbyimage/upload'\n",
    "multipart = {'encoded_image': (filePath, open(filePath, 'rb')), 'image_content': ''}\n",
    "response = requests.post(searchUrl, headers=headers, files=multipart, allow_redirects=False)\n",
    "fetchUrl = response.headers['Location']\n",
    "# print(fetchUrl)\n",
    "params = {\n",
    "    \n",
    "  'tbs': 'glass beads india',  \n",
    "  'hl': 'en',                \n",
    "  'num': '100'               \n",
    "\n",
    "}\n",
    "html = requests.get(fetchUrl, headers=headers)\n",
    "driver_path = \"chromedriver.exe\"\n",
    "# brave_path = \"C:\\\\Program Files\\\\BraveSoftware\\\\Brave-Browser\\\\Application\\\\brave.exe\"\n",
    "\n",
    "option = webdriver.ChromeOptions()\n",
    "# option.binary_location = brave_path\n",
    "option.add_argument(\"--headless\") \n",
    "driver = webdriver.Chrome(executable_path=driver_path, chrome_options=option, service=ChromeService(ChromeDriverManager().install()))\n",
    "print(fetchUrl)\n",
    "driver.get(fetchUrl)\n",
    "# print(driver.)\n",
    "content = driver.find_elements(By.CSS_SELECTOR, '#rso > div > div > div> div > div.Z26q7c.UK95Uc.jGGQ5e.VGXe8 > div > a')\n",
    "links = []\n",
    "for i in content:\n",
    "    links.append(i.get_attribute('href'))\n",
    "links"
   ]
  },
  {
   "cell_type": "code",
   "execution_count": 2,
   "id": "c9c2dcf0",
   "metadata": {},
   "outputs": [
    {
     "data": {
      "text/plain": [
       "['download.jpg', 'download2.jpg', 'download3.jpg', 'download4.jpg']"
      ]
     },
     "execution_count": 2,
     "metadata": {},
     "output_type": "execute_result"
    }
   ],
   "source": [
    "import os\n",
    "os.listdir('test_images')"
   ]
  },
  {
   "cell_type": "code",
   "execution_count": 4,
   "id": "b6a3308d",
   "metadata": {},
   "outputs": [
    {
     "name": "stdout",
     "output_type": "stream",
     "text": [
      "['DSFDDetector', 'RetinaNetResNet50', 'RetinaNetMobileNetV1']\n"
     ]
    },
    {
     "data": {
      "text/plain": [
       "(True, ['capture0.jpg', 'capture1.jpg'])"
      ]
     },
     "execution_count": 4,
     "metadata": {},
     "output_type": "execute_result"
    }
   ],
   "source": [
    "import requests\n",
    "from selenium import webdriver\n",
    "from selenium.webdriver.common.by import By\n",
    "import cv2\n",
    "import face_detection\n",
    "import warnings\n",
    "from webdriver_manager.chrome import ChromeDriverManager\n",
    "from selenium.webdriver.chrome.service import Service as ChromeService\n",
    "warnings.filterwarnings(\"ignore\")\n",
    "print(face_detection.available_detectors)\n",
    "detector = face_detection.build_detector(\"DSFDDetector\", confidence_threshold=.5, \n",
    "                                         nms_iou_threshold=.3)#RetinaNetMobileNetV1\n",
    "\n",
    "\n",
    "driver_path = \"chromedriver.exe\"\n",
    "# brave_path = \"C:\\\\Program Files\\\\BraveSoftware\\\\Brave-Browser\\\\Application\\\\brave.exe\"\n",
    "option = webdriver.ChromeOptions()\n",
    "# option.binary_location = brave_path\n",
    "option.add_argument(\"--headless\") \n",
    "driver = webdriver.Chrome(executable_path=driver_path, chrome_options=option, service=ChromeService(ChromeDriverManager().install()))\n",
    "def face_detection(path,format):\n",
    "    im = cv2.imread(path)[:, :, ::-1]\n",
    "    detections = detector.detect(im)\n",
    "    status = False\n",
    "    faces = []\n",
    "    files = []\n",
    "    if detections.shape[0] >= 1:\n",
    "        status = True\n",
    "        for i in range(len(detections)):\n",
    "            xmin, ymin, xmax, ymax, conf = tuple(detections[i])\n",
    "            \n",
    "            # print((xmin, ymin, xmax, ymax))\n",
    "            faces.append(im[round(ymin)-1:round(ymax)-1,round(xmin)-1:round(xmax)-1])\n",
    "            cv2.imwrite(f\"capture{i}.{format.lower()}\", faces[i][:, :, ::-1])\n",
    "            files.append(f\"capture{i}.{format.lower()}\")\n",
    "    return status,files\n",
    "filePath = os.path.join('test_images','download3.jpg')\n",
    "face_detection(filePath,\"jpg\")"
   ]
  },
  {
   "cell_type": "code",
   "execution_count": 19,
   "id": "bf5877c3",
   "metadata": {},
   "outputs": [
    {
     "name": "stdout",
     "output_type": "stream",
     "text": [
      "HERE /intl/en/policies/terms/\n"
     ]
    },
    {
     "data": {
      "text/plain": [
       "[]"
      ]
     },
     "execution_count": 19,
     "metadata": {},
     "output_type": "execute_result"
    }
   ],
   "source": [
    "import requests\n",
    "from selenium import webdriver\n",
    "from selenium.webdriver.common.by import By\n",
    "import cv2\n",
    "import face_detection\n",
    "import warnings\n",
    "from webdriver_manager.chrome import ChromeDriverManager\n",
    "from selenium.webdriver.chrome.service import Service as ChromeService\n",
    "from bs4 import BeautifulSoup\n",
    "import re\n",
    "import urllib.parse\n",
    "\n",
    "warnings.filterwarnings(\"ignore\")\n",
    "# print(face_detection.available_detectors)\n",
    "L = [\"https://www.google.com/search?tbs=sbi:AMhZZivJFMYcZo92U80YruXv8oXgVS1yc0YqbgjZNcvEodM3JkrPChPAUU_1SU0uQqNaFj8qpTs5BLXm87nKZclHBFwnsxaJGT5m5riWPVhappF8EECN_1xB18IsY2xgRcVwvkbU60PIBU7OuIaYngHqsoQTFp7m6ksw\",\n",
    "     \"https://www.google.com/search?tbs=sbi:AMhZZiv4q3uy3Ww8BcmVgXNn2hvoLVCb20nvCtUEWvbLVm8cF45HXMTjoYovFxYwxv6ZFQY_1Ioetca6xAIrBq3oEdxP8i6NFtX_1uFk6u5EKgnpygLSUvyzZOtoVL9cm4wKXe6ozDtpdzF2Siyd-x294R_1fM6gNEoFQ\",\n",
    "     \"https://www.google.com/search?tbs=sbi:AMhZZisjqG-iNRl2f2GmQvrCoGWlAWBw48aOE9jftbm4Ewwc8cv1vzdt0f5DiQeOCS7R-OYDLB_1vrdM6KAma994SQ6eNbxKEmbnhnHvMfjjxu-0Q0IBJTckvecwI54jADaNrnUz-9f07qQF5Hmxib4tosL5YMu7sWQ\",\n",
    "     \"https://www.google.com/search?tbs=sbi:AMhZZivxbUeN88DBfytFwj4aS7WwIdMJJNO6RT4sYgHTlU4ptWnKvY3q5uO9LIZlQpMDvegTx-49qO_1Xt3Hdb0KJVKh7ja-nT3AKmN-_1w68ZpQv8gJCm6XcngLWNQWuBA1Sk-mBNKLIOOnXSdxLLDXog6KM5oe5TtA\",\n",
    "     \"https://www.google.com/search?tbs=sbi:AMhZZisbm5a2fo3PW0rQDcKUA1Fo1gfe-bjyD9lO1ZIJ39YvEbRSNgndOwwtLOMlabR3AbKDAD4TzxX3PjDpL0v-lv80b56ltl3X8bEMHD4crTJgEvH5YTpzWgpGzSlmrHOh9yNUUHVVAdSd3wNBufHW6EePXEdT1A\",\n",
    "     \"https://www.google.com/search?tbs=sbi:AMhZZiu28keMROf4y-D93VgWfxErKJCR3qSOKiF-xg5DFNJObCzzXfYG8rBZZJACDbiLg1sUhbw0rHM0voxJ7DVK5ERx3MhYP7exFHNJlWWURMwQNodDVDkBpKPu4F5-zdcQkJ4iNuX9siF0KlxtsXuzAvA44s00Hg\"]\n",
    "detector = face_detection.build_detector(\"DSFDDetector\", confidence_threshold=.5, \n",
    "                                         nms_iou_threshold=.3)#RetinaNetMobileNetV1\n",
    "\n",
    "\n",
    "driver_path = \"chromedriver.exe\"\n",
    "# brave_path = \"C:\\\\Program Files\\\\BraveSoftware\\\\Brave-Browser\\\\Application\\\\brave.exe\"\n",
    "option = webdriver.ChromeOptions()\n",
    "# option.binary_location = brave_path\n",
    "option.add_argument(\"--headless\") \n",
    "driver = webdriver.Chrome(executable_path=driver_path, chrome_options=option, service=ChromeService(ChromeDriverManager().install()))\n",
    "\n",
    "\n",
    "\n",
    "def image_processing(path,format):\n",
    "    #\n",
    "    im = cv2.imread(path)[:, :, ::-1]\n",
    "    detections = detector.detect(im)\n",
    "    status = False\n",
    "    faces = []\n",
    "    files = []\n",
    "    if detections.shape[0] >= 1:\n",
    "        status = True\n",
    "        for i in range(len(detections)):\n",
    "            xmin, ymin, xmax, ymax, conf = tuple(detections[i])\n",
    "            \n",
    "            # print((xmin, ymin, xmax, ymax))\n",
    "            faces.append(im[round(ymin)-1:round(ymax)-1,round(xmin)-1:round(xmax)-1])\n",
    "            cv2.imwrite(f\"capture{i}.{format.lower()}\", faces[i][:, :, ::-1])\n",
    "            files.append(f\"capture{i}.{format.lower()}\")\n",
    "        \n",
    "    return status,files\n",
    "\n",
    "def search_link(file_path):\n",
    "    if(img==\"download.jpg\"):\n",
    "        url = L[0]\n",
    "    elif(img==\"download2.jpg\"):\n",
    "        url = L[1]\n",
    "    elif(img==\"download3.jpg\"):\n",
    "        url = L[2]\n",
    "    elif(img==\"download4.jpg\"):\n",
    "        url = L[3]\n",
    "    elif(img==\"lotus.png\"):\n",
    "        url=L[4]\n",
    "    elif(img==\"dogs.png\"):\n",
    "        url=L[5]\n",
    "    searchUrl = 'http://www.google.hr/searchbyimage/upload'\n",
    "    multipart = {'encoded_image': (file_path, open(file_path, 'rb')), 'image_content': ''}\n",
    "    headers = {\n",
    "    \"User-Agent\":\n",
    "    \"Mozilla/5.0 (Windows NT 10.0; Win64; x64) AppleWebKit/537.36 (KHTML, like Gecko) Chrome/72.0.3538.102 Safari/537.36 Edge/18.19582\"\n",
    "}\n",
    "    \n",
    "    response = requests.post(searchUrl, files=multipart)\n",
    "    fetchUrl = \"\"\n",
    "    if(response.status_code==200):\n",
    "        token_start = response.text.find(\"encoded_image=\") + len(\"encoded_image=\")\n",
    "        token_end = response.text.find(\"&\", token_start)\n",
    "        token = response.text[token_start:token_end]\n",
    "\n",
    "        # Generate the search URL\n",
    "        search_url = f\"https://www.google.com/searchbyimage?image_url=&image_content=&filename=&hl=en-US&q=&btnG=Search+by+image&encoded_image={urllib.parse.quote(token)}\"\n",
    "        print(\"HERE\",search_url)\n",
    "    else:\n",
    "        print(\"ERROR:\",response.status_code,response.content)\n",
    "    # fetchUrl = url    \n",
    "    return fetchUrl\n",
    "\n",
    "def links_scrape(fetchUrl):\n",
    "    driver.get(fetchUrl)\n",
    "    content = driver.find_elements(By.CSS_SELECTOR, '#rso > div > div > div> div > div.Z26q7c.UK95Uc.jGGQ5e.VGXe8 > div > a')\n",
    "    links = []\n",
    "    for i in content:\n",
    "        links.append(i.get_attribute('href'))\n",
    "    return links\n",
    "\n",
    "\n",
    "img = \"k.jpg\"\n",
    "status,faces = image_processing(img,\"jpg\")\n",
    "links = []\n",
    "for i in faces:\n",
    "    glink1 = search_link(i)\n",
    "    # links += links_scrape(glink1)\n",
    "if(not status):\n",
    "    glink1 = search_link(img)\n",
    "    # links += links_scrape(glink1)\n",
    "# print(*links,end=\"\\n\")\n",
    "links"
   ]
  }
 ],
 "metadata": {
  "kernelspec": {
   "display_name": "Python 3",
   "language": "python",
   "name": "python3"
  },
  "language_info": {
   "codemirror_mode": {
    "name": "ipython",
    "version": 3
   },
   "file_extension": ".py",
   "mimetype": "text/x-python",
   "name": "python",
   "nbconvert_exporter": "python",
   "pygments_lexer": "ipython3",
   "version": "3.10.11"
  },
  "vscode": {
   "interpreter": {
    "hash": "5c1f741a4f83aa020b4b2a4d7353a073a4e5e4a855a3258a20da40294ddbf005"
   }
  }
 },
 "nbformat": 4,
 "nbformat_minor": 5
}
