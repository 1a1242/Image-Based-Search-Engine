{
 "cells": [
  {
   "cell_type": "code",
   "execution_count": 1,
   "metadata": {},
   "outputs": [
    {
     "name": "stdout",
     "output_type": "stream",
     "text": [
      "http://www.google.hr/search?tbs=sbi:AMhZZiu8hcyGLp_1ehhEapKoMItvJEOypwufavzZoUtYFDmmNe0MN-kRoAbx_1IWtL-kVvZ5Qo3ZSY\n"
     ]
    },
    {
     "data": {
      "text/plain": [
       "[]"
      ]
     },
     "execution_count": 1,
     "metadata": {},
     "output_type": "execute_result"
    }
   ],
   "source": [
    "import requests\n",
    "from selenium import webdriver\n",
    "from selenium.webdriver.common.by import By\n",
    "import os\n",
    "import warnings\n",
    "from webdriver_manager.chrome import ChromeDriverManager\n",
    "from selenium.webdriver.chrome.service import Service as ChromeService\n",
    "warnings.filterwarnings(\"ignore\")\n",
    "\n",
    "# filePath = os.path.join('test_images','download2.jpg')\n",
    "filePath = \"download.jpg\"\n",
    "\n",
    "headers = {\n",
    "    \"User-Agent\":\n",
    "    \"Mozilla/5.0 (Windows NT 10.0; Win64; x64) AppleWebKit/537.36 (KHTML, like Gecko) Chrome/72.0.3538.102 Safari/537.36 Edge/18.19582\"\n",
    "}\n",
    "searchUrl = 'http://www.google.hr/searchbyimage/upload'\n",
    "multipart = {'encoded_image': (filePath, open(filePath, 'rb')), 'image_content': ''}\n",
    "response = requests.post(searchUrl, headers=headers, files=multipart, allow_redirects=False)\n",
    "fetchUrl = response.headers['Location']\n",
    "# print(fetchUrl)\n",
    "params = {\n",
    "    \n",
    "  'tbs': 'glass beads india',  \n",
    "  'hl': 'en',                \n",
    "  'num': '100'               \n",
    "\n",
    "}\n",
    "html = requests.get(fetchUrl, headers=headers)\n",
    "driver_path = \"chromedriver.exe\"\n",
    "# brave_path = \"C:\\\\Program Files\\\\BraveSoftware\\\\Brave-Browser\\\\Application\\\\brave.exe\"\n",
    "\n",
    "option = webdriver.ChromeOptions()\n",
    "# option.binary_location = brave_path\n",
    "option.add_argument(\"--headless\") \n",
    "driver = webdriver.Chrome(executable_path=driver_path, chrome_options=option, service=ChromeService(ChromeDriverManager().install()))\n",
    "print(fetchUrl)\n",
    "driver.get(fetchUrl)\n",
    "# print(driver.)\n",
    "content = driver.find_elements(By.CSS_SELECTOR, '#rso > div > div > div> div > div.Z26q7c.UK95Uc.jGGQ5e.VGXe8 > div > a')\n",
    "links = []\n",
    "for i in content:\n",
    "    links.append(i.get_attribute('href'))\n",
    "links"
   ]
  },
  {
   "cell_type": "code",
   "execution_count": 2,
   "metadata": {},
   "outputs": [
    {
     "data": {
      "text/plain": [
       "['download.jpg', 'download2.jpg', 'download3.jpg', 'download4.jpg']"
      ]
     },
     "execution_count": 2,
     "metadata": {},
     "output_type": "execute_result"
    }
   ],
   "source": [
    "import os\n",
    "os.listdir('test_images')"
   ]
  }
 ],
 "metadata": {
  "kernelspec": {
   "display_name": "Python 3",
   "language": "python",
   "name": "python3"
  },
  "language_info": {
   "codemirror_mode": {
    "name": "ipython",
    "version": 3
   },
   "file_extension": ".py",
   "mimetype": "text/x-python",
   "name": "python",
   "nbconvert_exporter": "python",
   "pygments_lexer": "ipython3",
   "version": "3.10.10"
  },
  "orig_nbformat": 4,
  "vscode": {
   "interpreter": {
    "hash": "5c1f741a4f83aa020b4b2a4d7353a073a4e5e4a855a3258a20da40294ddbf005"
   }
  }
 },
 "nbformat": 4,
 "nbformat_minor": 2
}
